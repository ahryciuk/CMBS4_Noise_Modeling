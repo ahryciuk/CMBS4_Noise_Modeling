{
 "cells": [
  {
   "cell_type": "markdown",
   "metadata": {},
   "source": [
    "# <font color='magenta'>Welcome</font> to the <font color='green'>BoloCalc</font><font color='blue'>+</font> simulation workbook for the <font color='orange'>CMB-S4 Collaboration</font>!\n",
    "\n",
    "### Author: Alec Hryciuk \n",
    "### University of Chicago Graduate Student\n",
    "### Contact: <u><font color='blue'>hryciuk@uchicago.edu</font></u>"
   ]
  },
  {
   "cell_type": "markdown",
   "metadata": {},
   "source": [
    "### Press <strong><font color='green'>Shift-Enter</font></strong> to <b>evaluate</b> all the cells in a decending order or hit run all to generate the interface. <font color='orange'>Note:</font> This interface and it's modules need to be in the same directory as Bolocalc. If it is not then you may run into FileNotFound Errors when trying to run calcBolos simulations because the interface is searching in the wrong directory.\n"
   ]
  },
  {
   "cell_type": "markdown",
   "metadata": {},
   "source": [
    "# <font color='green'>Import</font> necessary <font color='blue'>packages</font>:"
   ]
  },
  {
   "cell_type": "markdown",
   "metadata": {},
   "source": [
    "## You must run the cell below to generate any of the interfaces later on!\n",
    "\n",
    "### Here we just need to <font color='green'>import</font> the necessary <font color='blue'>python packages</font> for displaying the interface. You may need to change the directory in \"sys.path.append()\" to where you have dumped the project. \n",
    "\n",
    "### If you want the notebook to look nicer (no giant blocks of code), it was coded with a CodeFolder extension to the IPython Notebook. You should be able to enable it by going to the Nbextensions tab in the home directory of Jupyter and checking the box."
   ]
  },
  {
   "cell_type": "code",
   "execution_count": 4,
   "metadata": {},
   "outputs": [],
   "source": [
    "import ipywidgets as ipw\n",
    "from ipywidgets import interact, interact_manual, Layout, Button, Box, HBox, VBox\n",
    "import IPython.display as display\n",
    "import sys, os\n",
    "from BoloCalcConverters import TeleCamNames, AppendFiles, runCalcBolos\n",
    "from N_ell_calculator import S4_noise\n",
    "import pandas as pd\n",
    "import json\n",
    "\n",
    "#Add where the project path is on your system\n",
    "#sys.path.append('Enter path here')"
   ]
  },
  {
   "cell_type": "markdown",
   "metadata": {},
   "source": [
    "# <font color='green'>Save</font> Path to <font color='blue'>Experimental Directory</font>:"
   ]
  },
  {
   "cell_type": "markdown",
   "metadata": {},
   "source": [
    "### Enter the path to the <font color='blue'>experimental directory</font> you want to simulate. <font color='green'>Click</font> 'Run Interact' to save the path for the coming code."
   ]
  },
  {
   "cell_type": "code",
   "execution_count": 13,
   "metadata": {
    "code_folding": [
     0
    ]
   },
   "outputs": [
    {
     "data": {
      "application/vnd.jupyter.widget-view+json": {
       "model_id": "fd051c382fae40d889126ad8d1f0088b"
      }
     },
     "metadata": {},
     "output_type": "display_data"
    },
    {
     "data": {
      "text/plain": [
       "<function __main__.save_path>"
      ]
     },
     "execution_count": 13,
     "metadata": {},
     "output_type": "execute_result"
    }
   ],
   "source": [
    "#Save Experimental Path (run the above cell to imort necessary packages)\n",
    "def save_path(path):\n",
    "    global exp_dir\n",
    "    exp_dir = path\n",
    "    try:\n",
    "        print('Path saved as ' + exp_dir)\n",
    "        global telescope_names, camera_names\n",
    "        telescope_names, camera_names = TeleCamNames.TeleCamNames(exp_dir)\n",
    "        print('Your telescope names are:')\n",
    "        print(telescope_names)\n",
    "        print('with camera names:')\n",
    "        print(camera_names)\n",
    "    except:\n",
    "        print('Are you sure you input a valid path?')\n",
    "    return\n",
    "interact_manual(save_path,path='')"
   ]
  },
  {
   "cell_type": "markdown",
   "metadata": {},
   "source": [
    "# <font color='green'>Run</font> a <font color='blue'>BoloCalc Simulation</font>:"
   ]
  },
  {
   "cell_type": "markdown",
   "metadata": {},
   "source": [
    "### Here is where you will <font color='green'>run</font> a <font color='blue'>BoloCalc simulation</font> of the experiment you just entered.\n",
    "\n",
    "### For details on how calcBolos runs simulations  <a href=\"https://github.com/chill90/BoloCalc/blob/master/MANUAL/BoloCalc_User_Manual.pdf\"> click here</a>"
   ]
  },
  {
   "cell_type": "code",
   "execution_count": 11,
   "metadata": {
    "code_folding": [
     0,
     11,
     17,
     23,
     29,
     36,
     43,
     49
    ]
   },
   "outputs": [
    {
     "name": "stdout",
     "output_type": "stream",
     "text": [
      "Did you enter a path to your experiment?\n"
     ]
    },
    {
     "data": {
      "application/vnd.jupyter.widget-view+json": {
       "model_id": "1a3910463ed84a05a30cc19d11ed90d7"
      }
     },
     "metadata": {},
     "output_type": "display_data"
    }
   ],
   "source": [
    "#Run to Generate Simulation Interface\n",
    "\n",
    "#Import simulation from Bolocalc to get value of status bar?\n",
    "    \n",
    "#Instantiate command classes\n",
    "run_sim = runCalcBolos.runCalcBolos()\n",
    "ap = AppendFiles.AppendFiles()\n",
    "\n",
    "################################################################################# \n",
    "    \n",
    "#Button Click Definitions:\n",
    "def appfiles(a):\n",
    "    try:\n",
    "        ap.InputConvert(exp_dir)\n",
    "    except NameError:\n",
    "        print('Please Enter an Experimental Path')\n",
    "    return\n",
    "def appinput(a):\n",
    "    try:\n",
    "        ap.AppendInputs(exp_dir)\n",
    "    except NameError:\n",
    "        print('Please Enter an Experimental Path')\n",
    "    return\n",
    "def convout(a):\n",
    "    try:\n",
    "        ap.ConvertOutputFiles(exp_dir)\n",
    "    except NameError:\n",
    "        print('Please Enter an Experimental Path')\n",
    "    return\n",
    "def savefiles_in(a):\n",
    "    try:\n",
    "        a=0\n",
    "        ap.SaveFiles(exp_dir, save_in_to.value, save_in_name.value, a)\n",
    "    except NameError:\n",
    "        print('Please Enter an Experimental Path')\n",
    "    return\n",
    "def savefiles_out(a):\n",
    "    try:\n",
    "        a=1\n",
    "        ap.SaveFiles(exp_dir, save_out_to.value, save_out_name.value, a)\n",
    "    except NameError:\n",
    "        print('Please Enter an Experimental Path')\n",
    "    return\n",
    "def runsim(a):\n",
    "    try:\n",
    "        run_sim.runSim(exp_dir)\n",
    "    except NameError:\n",
    "        print('Enter a path to your experiment.')\n",
    "        return\n",
    "def saveplotparams(a):\n",
    "    try:\n",
    "        print('Saving plot parameters. Shift-Enter the next cell to display')\n",
    "        os.chdir(exp_dir + '/' + 'OutputExcelFiles')\n",
    "        plot_params_set = pd.read_excel('OutputExcelFiles.xlsx',sheet_name='N_ell_Plotting_Parameters')\n",
    "\n",
    "        global plot_params_names\n",
    "        global plot_params_values\n",
    "        plot_params_names=[]\n",
    "        plot_params_values=[]\n",
    "        for i in range(len(plot_params_set)):\n",
    "            plot_params_names.append(plot_params_set.iloc[i,0])\n",
    "            plot_params_values.append(plot_params_set.iloc[i,1])\n",
    "\n",
    "        for i in range(len(plot_params_values)):\n",
    "            if type(plot_params_values[i]) is str:\n",
    "                plot_params_values[i] = json.loads(plot_params_values[i])\n",
    "        print('Done!')\n",
    "    except NameError:\n",
    "        print('Enter a path to your experiment.')\n",
    "    return\n",
    "\n",
    "################################################################################# \n",
    "\n",
    "#Title of this block of interface\n",
    "title = ipw.HTML(\"<b><font size=6><font color='green'>Simulations!</font></b>\")\n",
    "\n",
    "#The button to run a simulation\n",
    "run_bolocalc_layout = Layout(width='400px',height='100px')\n",
    "run_bolocalc = ipw.Button(description = 'Run calcBolos', layout=run_bolocalc_layout, button_style='primary')\n",
    "    \n",
    "#Run Simulation button click definition:\n",
    "#if a simulation has not been run---button click = run simulation\n",
    "#if SimulationCheck.SimulationCheck.(exp_dir) == True:\n",
    "#    run_bolocalc.on_click(runCalcBolos.runCalcBolos(exp_dir))\n",
    "#else:\n",
    "#    print('You have previously ran a simulation')\n",
    "#    print('The output files will be overwritten')\n",
    "#    print('If you still want to proceed click run calcBolos')\n",
    "#    run_bolocalc.on_click(runCalcBolos.runCalcBolos(exp_dir))\n",
    "\n",
    "#Text box display of current experimental directory\n",
    "try:\n",
    "    display_exp_path = ipw.Text(description = 'Current Experiment', value=exp_dir)\n",
    "    \n",
    "except NameError:\n",
    "    display_exp_path = ipw.Text(description='Current Experiment',value='Null')\n",
    "    print('Did you enter a path to your experiment?')\n",
    "    \n",
    "#Progress bar for viewing pleasure\n",
    "sim_progress = ipw.IntProgress(value=0,\n",
    "                               min=0,\n",
    "                               max=100,\n",
    "                               step=0.5,\n",
    "                               description='Simulation Progress',\n",
    "                               bar_style='success',\n",
    "                               orientation='horizontal')\n",
    "\n",
    "#sim_progress.value = Simulation._bar_len\n",
    "\n",
    "#################################################################################\n",
    "\n",
    "#Additional buttons\n",
    "add_box_layout = Layout(display = 'flex',\n",
    "                   flex_flow = 'column',\n",
    "                    justify_content='space-between',\n",
    "                    align_items = 'stretch',\n",
    "                   border = 'solid',\n",
    "                   width = '300px',\n",
    "                    height = '75px')\n",
    "append_input_button = ipw.Button(description='Convert Input Files to Excel',layout=add_box_layout)\n",
    "append_input_button.style.button_color='green'\n",
    "convert_output_button = ipw.Button(description='Convert Output files to Excel',layout=add_box_layout)\n",
    "convert_output_button.style.button_color='orange'\n",
    "save_output_button = ipw.Button(description='Overwrite the Input Files',layout=add_box_layout)\n",
    "save_output_button.style.button_color='lightblue'\n",
    "plots_button = ipw.Button(description='Save Plot Parameters From Excel',layout=add_box_layout)\n",
    "plots_button.style.button_color='red'\n",
    "\n",
    "#################################################################################\n",
    "\n",
    "#save to path and name\n",
    "save_layout = Layout(width = '200px',height='75px')\n",
    "save_in_button = ipw.Button(description='Save Input Files',layout=save_layout, button_style='info')\n",
    "save_out_button = ipw.Button(description='Save Output Files',layout=save_layout, button_style='info')\n",
    "save_buttons = VBox([save_in_button,save_out_button])\n",
    "\n",
    "save_in_to = ipw.Text(description='Save Input to:',placeholder='Path to save to')\n",
    "save_in_name = ipw.Text(description='Input Directory Name:')\n",
    "save_out_to = ipw.Text(description='Save Output to:',placeholder='Path to save to')\n",
    "save_out_name = ipw.Text(description='Output Directory Name:')\n",
    "save_to = VBox([save_in_to, save_in_name, save_out_to, save_out_name])\n",
    "\n",
    "save_int = HBox([save_buttons, save_to])\n",
    "save_int.layout.margin = '0 0 0 275px'\n",
    "\n",
    "add_buttons = HBox([VBox([append_input_button,convert_output_button]),VBox([save_output_button,plots_button])])\n",
    "add_buttons.layout.margin = '0 0 0 175px'\n",
    "\n",
    "#################################################################################\n",
    "\n",
    "#Button Click Execution Commands:\n",
    "\n",
    "save_in_button.on_click(savefiles_in)\n",
    "save_out_button.on_click(savefiles_out)\n",
    "append_input_button.on_click(appfiles)\n",
    "save_output_button.on_click(appinput)\n",
    "convert_output_button.on_click(convout)\n",
    "run_bolocalc.on_click(runsim)\n",
    "plots_button.on_click(saveplotparams)\n",
    "\n",
    "#################################################################################\n",
    "\n",
    "#Formatting and Display\n",
    "display_col = VBox([display_exp_path,sim_progress])\n",
    "\n",
    "run_sim_row = HBox([run_bolocalc,display_col])\n",
    "run_sim_row.layout.margin = '25px 0 0 150px'\n",
    "total_layout=Layout(border='solid 15px blue')\n",
    "total = VBox([title,run_sim_row, add_buttons, save_int],layout=total_layout,)\n",
    "total\n",
    "\n"
   ]
  },
  {
   "cell_type": "markdown",
   "metadata": {},
   "source": [
    "# <font color='green'>Calculate and Plot</font>  <font color='blue'>N($\\ell$)</font>:"
   ]
  },
  {
   "cell_type": "markdown",
   "metadata": {},
   "source": [
    "### The interface displays the plotting parameters that you input when you clicked <font color = 'red'>'Save Plot Parameters from Excel'</font> above. The button at the bottom will <font color='green'>calculate</font> the N($\\ell$) curves for <font color='blue'>temperature</font> and <font color='blue'>polarization</font>.  There is a <font color='green'>download</font> button in the bottom left corner of the generated plot interface so you can download the <font color='blue'>figures</font> you become attached to. There is also the ability to <font color='green'>zoom</font> in on parts of the plot and <font color='green'>pan</font> if you so desire it.\n",
    "\n",
    "#### <font color='orange'>Note: If you change the values in the text boxes, you do</font> <font color='red'>NOT</font> <font color='orange'> change the parameters that go into calculating N($\\ell$)</font>. Instead go back to the N_ell_Plotting_Parameters sheet in OutputExcelFiles.xlsx, make your changes and save, then <font color='green'>click</font> <font color='red'>'Save Plot Parameters from Excel'</font> again and <font color='green'>Shift-Enter</font> on this cell to update the calculator with your new values."
   ]
  },
  {
   "cell_type": "code",
   "execution_count": 12,
   "metadata": {
    "code_folding": [
     0
    ]
   },
   "outputs": [
    {
     "name": "stdout",
     "output_type": "stream",
     "text": [
      "Save your plot parameters with the red button in the previous section\n",
      "Then try Shift-Enter on this cell again.\n"
     ]
    }
   ],
   "source": [
    "#Code for N(ell) interface\n",
    "try:\n",
    "    def N_ell_calculator(a):\n",
    "        %matplotlib notebook\n",
    "        import matplotlib.pyplot as plt\n",
    "        import matplotlib as pltt\n",
    "        import subprocess\n",
    "        display.clear_output()\n",
    "\n",
    "        ell, N_ell_T_LA, N_ell_P_LA, Map_white_noise_levels = S4_noise(band_centers=plot_params_values[0],\n",
    "                                                                  beam_sizes=plot_params_values[1],Sens=plot_params_values[2],\n",
    "                                                                  f_knees=plot_params_values[3],Cs=plot_params_values[4],\n",
    "                                                                  alpha_temp=plot_params_values[5],\n",
    "                                                                   survey_time=plot_params_values[6],f_sky=plot_params_values[7],\n",
    "                                                                   ret_after_obs_cuts=plot_params_values[8],\n",
    "                                                                   non_uniformity_param=plot_params_values[9],\n",
    "                                                                   ell_max=plot_params_values[10],ell_pivot=plot_params_values[11],\n",
    "                                                                   delta_ell=plot_params_values[12],\n",
    "                                                                   alpha_pol=plot_params_values[13],NTubes_LF=plot_params_values[14],\n",
    "                                                                   NTubes_MF=plot_params_values[15],NTubes_UHF=plot_params_values[16])\n",
    "\n",
    "\n",
    "        band_centers = [27.,39.,93.,145.,225.,280.]\n",
    "\n",
    "        colors = ['b','r','g','m','k','y']\n",
    "\n",
    "        fig, (plt1,plt2) = plt.subplots(2,1,figsize=(10,8))\n",
    "        fig.tight_layout(pad=3.0)\n",
    "        for i in range(len(band_centers)):\n",
    "            plt1.loglog(ell,N_ell_T_LA[0][i], label=str(band_centers[i]) + ' GHz', color=colors[i], ls='-', lw=2.)\n",
    "            #plt.loglog(ell,N_ell_V3_T_white[i], color=colors[i], ls='-', lw=0.5) #white noise\n",
    "\n",
    "\n",
    "        # include correlated atmospheric noise across frequencies\n",
    "        plt1.loglog(ell, N_ell_T_LA[1][0], label=r'$27 \\times 39$ GHz atm.', color='orange', lw=1.5)\n",
    "        plt1.loglog(ell, N_ell_T_LA[1][1], label=r'$93 \\times 145$ GHz atm.', color='fuchsia', lw=1.5)\n",
    "        plt1.loglog(ell, N_ell_T_LA[1][2], label=r'$225 \\times 280$ GHz atm.', color='springgreen', lw=1.5)\n",
    "        plt1.set_title('$N(\\ell$) Temperature', fontsize=18)\n",
    "        plt1.set_ylabel('$N(\\ell$) [$\\mu$K${}^2$]', fontsize=16)\n",
    "        plt1.set_xlabel('$\\ell$', fontsize=16)\n",
    "        plt1.set_ylim(5e-7,1)\n",
    "        plt1.set_xlim(100,10000)\n",
    "        plt1.legend(loc='lower left', ncol=2, fontsize=8)\n",
    "        plt1.grid()\n",
    "        #plt.savefig('V3_calc_mode'+str(mode)+'_fsky'+str(fsky)+'_defaultdist_noise_LAT_T.pdf')\n",
    "        #plt.close()\n",
    "\n",
    "        ## plot the polarization noise curves\n",
    "\n",
    "        for i in range(len(band_centers)):\n",
    "            plt2.loglog(ell,N_ell_P_LA[0][i], label=str(band_centers[i])+' GHz (V3)', color=colors[i], ls='-', lw=2.)\n",
    "            #plt.loglog(ell,N_ell_V3_T_white[i], color=colors[i], ls='-', lw=0.5) #white noise\n",
    "            i+=1\n",
    "        # include correlated atmospheric noise across frequencies\n",
    "        plt2.loglog(ell, N_ell_P_LA[1][0], label=r'$27 \\times 39$ GHz atm.', color='orange', lw=1.5)\n",
    "        plt2.loglog(ell, N_ell_P_LA[1][1], label=r'$93 \\times 145$ GHz atm.', color='fuchsia', lw=1.5)\n",
    "        plt2.loglog(ell, N_ell_P_LA[1][2], label=r'$225 \\times 280$ GHz atm.', color='springgreen', lw=1.5)\n",
    "        plt2.set_title(r\"$N(\\ell$) Polarization\", fontsize=18)\n",
    "        plt2.set_ylabel(r\"$N(\\ell$) [$\\mu$K${}^2$]\", fontsize=16)\n",
    "        plt2.set_xlabel(r\"$\\ell$\", fontsize=16)\n",
    "        plt2.set_ylim(5e-7,1)\n",
    "        plt2.set_xlim(100,10000)\n",
    "        plt2.legend(loc='upper left', ncol=2, fontsize=9)\n",
    "        plt2.grid()\n",
    "\n",
    "        return\n",
    "\n",
    "    #############Text Box inputs to calculation################\n",
    "    params = [0 for i in range(len(plot_params_names))]\n",
    "    for i in range(len(plot_params_names)):\n",
    "        params[i] = ipw.Text(description=plot_params_names[i],value=str(plot_params_values[i]))\n",
    "\n",
    "    ####################Display###############################\n",
    "    params_box1=HBox(params[0:3])\n",
    "    params_box2=HBox(params[3:6])\n",
    "    params_box3=HBox(params[6:9])\n",
    "    params_box4=HBox(params[9:12])\n",
    "    params_box5=HBox(params[12:15])\n",
    "    params_box6=HBox(params[15:])\n",
    "    params_box = VBox([params_box1,params_box2,params_box3,params_box4,params_box5,params_box6])\n",
    "\n",
    "    plot_layout = Layout(width='600px',height='100px')\n",
    "    plot_button = ipw.Button(description = 'Plot N(ell)', layout=plot_layout, button_style='danger')\n",
    "    plot_button.layout.margin = '0px 0px 0px 175px'\n",
    "    plot_button.on_click(N_ell_calculator)\n",
    "    ##################Run Interact button#####################\n",
    "    plots = VBox([params_box,plot_button])\n",
    "    \n",
    "    plots\n",
    "except NameError:\n",
    "    print('Save your plot parameters with the red button in the previous section')\n",
    "    print('Then try Shift-Enter on this cell again.')\n",
    "    \n"
   ]
  },
  {
   "cell_type": "code",
   "execution_count": null,
   "metadata": {},
   "outputs": [],
   "source": []
  }
 ],
 "metadata": {
  "kernelspec": {
   "display_name": "Python 3",
   "language": "python",
   "name": "python3"
  },
  "language_info": {
   "codemirror_mode": {
    "name": "ipython",
    "version": 3
   },
   "file_extension": ".py",
   "mimetype": "text/x-python",
   "name": "python",
   "nbconvert_exporter": "python",
   "pygments_lexer": "ipython3",
   "version": "3.6.9"
  }
 },
 "nbformat": 4,
 "nbformat_minor": 2
}
